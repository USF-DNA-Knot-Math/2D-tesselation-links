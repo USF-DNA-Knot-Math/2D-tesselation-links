{
 "cells": [
  {
   "cell_type": "code",
   "execution_count": 5,
   "id": "ac6d7657-f681-4b25-966e-4ff7f5172f7d",
   "metadata": {},
   "outputs": [],
   "source": [
    "def matching(vertex1, vertex2):\n",
    "    #Receives two vertices in the form of a tuple, and returns True\n",
    "    # or False, depending on whether they match\n",
    "    if vertex1[1]!=vertex2[1]:\n",
    "        return False\n",
    "    letters=[vertex1[0],vertex2[0]]\n",
    "    letters.sort()\n",
    "    if letters==['A','a'] or letters==['B','b']:\n",
    "        return True\n",
    "    return False\n",
    "\n",
    "def TupleTranspose(tup):\n",
    "    tup=list(tup)\n",
    "    tup.reverse()\n",
    "    return tuple(tup)"
   ]
  },
  {
   "cell_type": "code",
   "execution_count": 6,
   "id": "469495c7-a97b-4f60-9ddc-ab4b47bd519f",
   "metadata": {},
   "outputs": [],
   "source": [
    "#Copied from ChatGPT\n",
    "def format_list(L):\n",
    "    if not L:\n",
    "        return \"\"\n",
    "    if len(L) == 1:\n",
    "        return str(L[0])\n",
    "    return f\"{', '.join(map(str, L[:-1]))} and {L[-1]}\""
   ]
  },
  {
   "cell_type": "code",
   "execution_count": 7,
   "id": "fde3658a-c7ab-49e7-ac53-829611961243",
   "metadata": {},
   "outputs": [],
   "source": [
    "def Find_Curves(Input):\n",
    "    Output=[]\n",
    "    Remaining_Chords=Input.copy()\n",
    "\n",
    "    while len(Remaining_Chords)>0:\n",
    "        chord1=Remaining_Chords.pop()\n",
    "        curve=[chord1]\n",
    "\n",
    "        #Check if the curve is a singleton\n",
    "        if matching(chord1[0],chord1[1]):\n",
    "            Output.append(curve)\n",
    "\n",
    "        #Initialize index\n",
    "        i=0\n",
    "        while i<len(Remaining_Chords):\n",
    "            chord2=Remaining_Chords[i]\n",
    "\n",
    "            #increase index for next round\n",
    "            i+=1\n",
    "            chord_added=False\n",
    "            if matching(chord1[1], chord2[0]):\n",
    "                curve.append(chord2)\n",
    "                chord_added=True\n",
    "                #Remove from Remaining_Chords\n",
    "                Remaining_Chords.pop(i-1)\n",
    "                #Fix index\n",
    "                i-=1\n",
    "            elif matching(chord1[1], chord2[1]):\n",
    "                chord2=TupleTranspose(chord2)\n",
    "                curve.append(chord2)\n",
    "                chord_added=True\n",
    "                Remaining_Chords.pop(i-1)\n",
    "                i-=1\n",
    "\n",
    "            if chord_added:\n",
    "                if matching(chord2[1],curve[0][0]):\n",
    "                    Output.append(curve)\n",
    "                    break\n",
    "                else:\n",
    "                    chord1=chord2\n",
    "                    #Initialize the index again \n",
    "                    #(since a chord was added and the cycle didn't end)\n",
    "                    i=0\n",
    "    print('Found ',len(Output),' curves of lengths:', format_list([len(curve) for curve in Output]))\n",
    "    return Output"
   ]
  },
  {
   "cell_type": "code",
   "execution_count": 3,
   "id": "d1431eb7-4037-4ed0-9b49-149ee9cc881a",
   "metadata": {},
   "outputs": [],
   "source": [
    "coordinate_deltas={\n",
    "('a','a') : (0,-1),\n",
    "('a','A') : (0,1),\n",
    "('a','b') : (-1,0),\n",
    "('a','B') : (1, 0),\n",
    "('b','a') : (0,-1),\n",
    "('b','A') : (0,+1),\n",
    "('b','b') : (-1,0),\n",
    "('b', 'B') : (1,0),\n",
    "('A','a') : (0,-1),\n",
    "('A','A') : (0,1),\n",
    "('A','b') : (-1,0),\n",
    "('A','B') : (1,0),\n",
    "('B','a') : (0,-1),\n",
    "('B','A') : (0,1),\n",
    "('B','b') : (-1,0),\n",
    "('B','B') : (1,0)\n",
    "}\n",
    "\n",
    "def track_coordinates(curve):\n",
    "    #start at box (0,0)\n",
    "    x=0; y=0\n",
    "    #update for each chord\n",
    "    for chord in curve:\n",
    "    delta=coordinate_deltas[(chord[0][0],chord[1][0])]\n",
    "    x+=delta[0]\n",
    "    y+=delta[1]\n",
    "    #return\n",
    "    return (x,y)"
   ]
  },
  {
   "cell_type": "code",
   "execution_count": 4,
   "id": "5c478f30-4eb7-46fd-8499-ed920bed570d",
   "metadata": {},
   "outputs": [],
   "source": [
    "Input=[(('a',1),('B',1)),\n",
    "      (('a',2),('a',3)),\n",
    "      (('a',4),('b',1)),\n",
    "      (('b',2),('A',2)),\n",
    "      (('b',3),('b',4)),\n",
    "      (('A',1),('A',4)),\n",
    "      (('A',3),('B',2)),\n",
    "      (('B',3),('B',4))]\n"
   ]
  },
  {
   "cell_type": "code",
   "execution_count": 8,
   "id": "e8c87894-e152-47c8-aee1-c089d40e0381",
   "metadata": {},
   "outputs": [
    {
     "name": "stdout",
     "output_type": "stream",
     "text": [
      "Found  3  curves of lengths: 2, 3 and 3\n"
     ]
    },
    {
     "data": {
      "text/plain": [
       "[[(('B', 3), ('B', 4)), (('b', 4), ('b', 3))],\n",
       " [(('A', 3), ('B', 2)), (('b', 2), ('A', 2)), (('a', 2), ('a', 3))],\n",
       " [(('A', 1), ('A', 4)), (('a', 4), ('b', 1)), (('B', 1), ('a', 1))]]"
      ]
     },
     "execution_count": 8,
     "metadata": {},
     "output_type": "execute_result"
    }
   ],
   "source": [
    "Find_Curves(Input)"
   ]
  },
  {
   "cell_type": "code",
   "execution_count": null,
   "id": "3b1337aa-1a4f-4164-9a8d-733ed367b4f1",
   "metadata": {},
   "outputs": [],
   "source": []
  }
 ],
 "metadata": {
  "kernelspec": {
   "display_name": "Python 3 (ipykernel)",
   "language": "python",
   "name": "python3"
  },
  "language_info": {
   "codemirror_mode": {
    "name": "ipython",
    "version": 3
   },
   "file_extension": ".py",
   "mimetype": "text/x-python",
   "name": "python",
   "nbconvert_exporter": "python",
   "pygments_lexer": "ipython3",
   "version": "3.9.12"
  }
 },
 "nbformat": 4,
 "nbformat_minor": 5
}
